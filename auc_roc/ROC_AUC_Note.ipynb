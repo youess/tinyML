{
 "cells": [
  {
   "cell_type": "markdown",
   "metadata": {},
   "source": [
    "# ROC AUC理解\n"
   ]
  },
  {
   "cell_type": "markdown",
   "metadata": {},
   "source": [
    "这是一个对ROC AUC分数概念的一个理解笔记，这里参考的是[这篇笔记](http://www.cs.ru.nl/~tomh/onderwijs/dm/dm_files/roc_auc.pdf)\n",
    "\n",
    "文章提到过[原始ROC论文](http://www.cs.ru.nl/~tomh/onderwijs/dm/dm_files/ROC101.pdf),和对模型比较的[一篇论文](http://www.cs.ru.nl/~tomh/onderwijs/dm/dm_files/salzberg97comparing.pdf)"
   ]
  },
  {
   "cell_type": "code",
   "execution_count": 4,
   "metadata": {
    "collapsed": true
   },
   "outputs": [],
   "source": [
    "import numpy as np\n",
    "import pandas as pd\n",
    "from sklearn.metrics import roc_auc_score, roc_curve\n",
    "import matplotlib.pyplot as plt\n",
    "%matplotlib inline"
   ]
  },
  {
   "cell_type": "markdown",
   "metadata": {},
   "source": [
    "## 数据\n",
    "\n",
    "+ c1, 第一列是索引\n",
    "+ c2, 第二列是真实标签\n",
    "+ c3, 模型分类1的预测概率\n",
    "+ c4, 模型分类2的预测概率"
   ]
  },
  {
   "cell_type": "code",
   "execution_count": 2,
   "metadata": {},
   "outputs": [
    {
     "name": "stdout",
     "output_type": "stream",
     "text": [
      "(108, 4)\n"
     ]
    },
    {
     "data": {
      "text/html": [
       "<div>\n",
       "<style scoped>\n",
       "    .dataframe tbody tr th:only-of-type {\n",
       "        vertical-align: middle;\n",
       "    }\n",
       "\n",
       "    .dataframe tbody tr th {\n",
       "        vertical-align: top;\n",
       "    }\n",
       "\n",
       "    .dataframe thead th {\n",
       "        text-align: right;\n",
       "    }\n",
       "</style>\n",
       "<table border=\"1\" class=\"dataframe\">\n",
       "  <thead>\n",
       "    <tr style=\"text-align: right;\">\n",
       "      <th></th>\n",
       "      <th>0</th>\n",
       "      <th>1</th>\n",
       "      <th>2</th>\n",
       "      <th>3</th>\n",
       "    </tr>\n",
       "  </thead>\n",
       "  <tbody>\n",
       "    <tr>\n",
       "      <th>0</th>\n",
       "      <td>1</td>\n",
       "      <td>1</td>\n",
       "      <td>0.88700</td>\n",
       "      <td>0.797060</td>\n",
       "    </tr>\n",
       "    <tr>\n",
       "      <th>1</th>\n",
       "      <td>2</td>\n",
       "      <td>0</td>\n",
       "      <td>0.13591</td>\n",
       "      <td>0.099401</td>\n",
       "    </tr>\n",
       "    <tr>\n",
       "      <th>2</th>\n",
       "      <td>3</td>\n",
       "      <td>0</td>\n",
       "      <td>0.55549</td>\n",
       "      <td>0.650750</td>\n",
       "    </tr>\n",
       "    <tr>\n",
       "      <th>3</th>\n",
       "      <td>4</td>\n",
       "      <td>0</td>\n",
       "      <td>0.23876</td>\n",
       "      <td>0.508570</td>\n",
       "    </tr>\n",
       "    <tr>\n",
       "      <th>4</th>\n",
       "      <td>5</td>\n",
       "      <td>0</td>\n",
       "      <td>0.14542</td>\n",
       "      <td>0.236290</td>\n",
       "    </tr>\n",
       "  </tbody>\n",
       "</table>\n",
       "</div>"
      ],
      "text/plain": [
       "   0  1        2         3\n",
       "0  1  1  0.88700  0.797060\n",
       "1  2  0  0.13591  0.099401\n",
       "2  3  0  0.55549  0.650750\n",
       "3  4  0  0.23876  0.508570\n",
       "4  5  0  0.14542  0.236290"
      ]
     },
     "execution_count": 2,
     "metadata": {},
     "output_type": "execute_result"
    }
   ],
   "source": [
    "# !wget -c http://www.cs.ru.nl/~tomh/onderwijs/dm/dm_files/classprobabilities.csv\n",
    "data = pd.read_csv('./classprobabilities.csv', header=None)\n",
    "print(data.shape)\n",
    "data.head()"
   ]
  },
  {
   "attachments": {},
   "cell_type": "markdown",
   "metadata": {},
   "source": [
    "### ROC curve\n",
    "\n",
    "如何得出ROC曲线呢？首先先看看几个评价分类器好坏的标准。\n",
    "\n",
    "<img src=\"tpr_fpr.png\" alt=\"Drawing\" style=\"width: 300px;height=20\"/>\n",
    "\n",
    "一个经典的ROC曲线如下图所示:\n",
    "\n",
    "<img src=\"roc_examp.jpg\" alt=\"Drawing\" style=\"width: 300px;height=20\"/>"
   ]
  },
  {
   "cell_type": "markdown",
   "metadata": {},
   "source": [
    "ROC曲线计算的方式是如何呢？\n",
    "\n",
    "ROC曲线是一个二维图像，它的x轴表示FP rate而y轴表示TP rate, 它能直观地表示分类器好坏的权衡(trade off)\n",
    "\n",
    "我们观察两个点(0, 0)和(1, 1)，原点表示分类器预测的真实为1的样本数为0，同时假阳性的样本个数也为0，fpr = fp/n = 0, tpr = tp / p = 0,\n",
    "\n",
    "如下图所示，则(0, 0)负样本都预测正确，而正样本都预测错误， 正负样本都为20\n",
    "\n",
    "|  Name |  p1  |  p0  |\n",
    "|  ---  | --- | --- | \n",
    "|  a1  |  0   |  0  |\n",
    "|  a0  |  20   | 20  |\n",
    "\n",
    "而(1, 1)则相反，所有正样本都预测正确，而负样本都预测错误\n",
    "\n",
    "|  Name |  p1  |  p0  |\n",
    "|  ---  | --- | --- | \n",
    "|  a1  |  20   |  20  |\n",
    "|  a0  |  0   | 0  |\n",
    "\n",
    "\n",
    "而(0, 1)则表示完美正确预测，(1, 0)表示完全错误预测。对角线点表示随机预测。\n"
   ]
  },
  {
   "cell_type": "code",
   "execution_count": 17,
   "metadata": {},
   "outputs": [
    {
     "data": {
      "text/plain": [
       "(array([0, 1], dtype=int64), array([54, 54], dtype=int64))"
      ]
     },
     "execution_count": 17,
     "metadata": {},
     "output_type": "execute_result"
    }
   ],
   "source": [
    "np.unique(data[1], return_counts=True)"
   ]
  },
  {
   "cell_type": "code",
   "execution_count": 31,
   "metadata": {},
   "outputs": [
    {
     "data": {
      "image/png": "[encoded data removed]",
      "text/plain": [
       "<matplotlib.figure.Figure at 0x2da1bdf3f98>"
      ]
     },
     "metadata": {},
     "output_type": "display_data"
    }
   ],
   "source": [
    "def cal_roc_curve(y_true, y_pred, threshold=0.5, plot=True):\n",
    "    \"\"\"原始算法, 当然还有更加有效的计算方式，这里就不再赘述了，可以附件pdf中进行实现\"\"\"\n",
    "    \n",
    "    \n",
    "    sample_size = len(y_true)\n",
    "    _, (neg_cnt, pos_cnt) = np.unique(data[1], return_counts=True)\n",
    "    \n",
    "    points = []\n",
    "    for t in np.sort(y_pred):\n",
    "        tp = fp = 0\n",
    "        for i in range(sample_size):\n",
    "        \n",
    "            if y_pred[i] >= t:\n",
    "                if y_true[i] == 1:\n",
    "                    tp += 1\n",
    "                else:\n",
    "                    fp += 1\n",
    "        points.append((fp / neg_cnt, tp / pos_cnt))\n",
    "        \n",
    "    points = np.array(points)\n",
    "    if plot:\n",
    "        x, y = points[:, 0], points[:, 1]\n",
    "        plt.plot(x, y, 'r--')\n",
    "    return points\n",
    "\n",
    "points = cal_roc_curve(data[1], data[2])\n",
    "# x, y = points[:, 0], points[:, 1]\n",
    "\n",
    "# plt.plot(x, y, 'r--')"
   ]
  },
  {
   "cell_type": "markdown",
   "metadata": {},
   "source": [
    "AUC分数是啥，area under the ROC curve,即ROC曲线下面的面积\n",
    "\n",
    "由于随机预测是对角线，所以AUC必须大于0.5分类器才有作用。\n"
   ]
  },
  {
   "cell_type": "code",
   "execution_count": 34,
   "metadata": {},
   "outputs": [
    {
     "data": {
      "text/plain": [
       "(0.9564471879286692, 0.7654320987654322)"
      ]
     },
     "execution_count": 34,
     "metadata": {},
     "output_type": "execute_result"
    }
   ],
   "source": [
    "# compute by hand.\n",
    "\n",
    "def get_auc_score(y_true, y_pred):\n",
    "    \n",
    "    roc = cal_roc_curve(y_true, y_pred, plot=False)\n",
    "    fpr, tpr = roc[:, 0], roc[:, 1]\n",
    "    \n",
    "    def trapezoid_area(x1, x2, y1, y2):\n",
    "        \"\"\"梯形面积\"\"\"\n",
    "        base = abs(x1 - x2)\n",
    "        height = (y1 + y2) / 2\n",
    "        return base * height\n",
    "    \n",
    "    n = len(roc)       # for each curve roc points\n",
    "    auc = 0\n",
    "    for i in range(1, n):\n",
    "        pre_x, pre_y = fpr[i-1], tpr[i-1]\n",
    "        cur_x, cur_y = fpr[i], tpr[i]\n",
    "        auc += trapezoid_area(pre_x, cur_x, pre_y, cur_y)\n",
    "    return auc\n",
    "    \n",
    "get_auc_score(data[1].values, data[2].values), get_auc_score(data[1].values, data[3].values)"
   ]
  },
  {
   "cell_type": "code",
   "execution_count": 6,
   "metadata": {},
   "outputs": [
    {
     "data": {
      "text/plain": [
       "(0.9564471879286695, 0.7654320987654321)"
      ]
     },
     "execution_count": 6,
     "metadata": {},
     "output_type": "execute_result"
    }
   ],
   "source": [
    "# correct score from sklearn\n",
    "roc_auc_score(data[1], data[2]), roc_auc_score(data[1], data[3])"
   ]
  },
  {
   "cell_type": "code",
   "execution_count": 41,
   "metadata": {},
   "outputs": [
    {
     "data": {
      "image/png": "[encoded data removed]",
      "text/plain": [
       "<matplotlib.figure.Figure at 0x2da1e449128>"
      ]
     },
     "metadata": {},
     "output_type": "display_data"
    }
   ],
   "source": [
    "for i, c in [(2, 'r'), (3, 'b')]:\n",
    "    fpr, tpr, _ = roc_curve(data[1], data[i])     # fpr, tpr, threshold\n",
    "    plt.plot(fpr, tpr, '{}--'.format(c))"
   ]
  }
 ],
 "metadata": {
  "kernelspec": {
   "display_name": "Python 3",
   "language": "python",
   "name": "python3"
  },
  "language_info": {
   "codemirror_mode": {
    "name": "ipython",
    "version": 3
   },
   "file_extension": ".py",
   "mimetype": "text/x-python",
   "name": "python",
   "nbconvert_exporter": "python",
   "pygments_lexer": "ipython3",
   "version": "3.6.3"
  }
 },
 "nbformat": 4,
 "nbformat_minor": 2
}
